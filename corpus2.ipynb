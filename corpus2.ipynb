{
 "cells": [
  {
   "cell_type": "code",
   "execution_count": 1,
   "metadata": {},
   "outputs": [],
   "source": [
    "import json\n",
    "from tqdm.notebook import tqdm\n",
    "import os"
   ]
  },
  {
   "cell_type": "markdown",
   "metadata": {},
   "source": [
    "## Загрузка датасета"
   ]
  },
  {
   "cell_type": "code",
   "execution_count": 2,
   "metadata": {},
   "outputs": [
    {
     "data": {
      "text/plain": [
       "10319"
      ]
     },
     "execution_count": 2,
     "metadata": {},
     "output_type": "execute_result"
    }
   ],
   "source": [
    "with open('sentiment-analysis-in-russian/dataset.json', 'r') as f:\n",
    "    data = json.load(f)\n",
    "\n",
    "len(data)"
   ]
  },
  {
   "cell_type": "markdown",
   "metadata": {},
   "source": [
    "## Предобработка текстов "
   ]
  },
  {
   "cell_type": "code",
   "execution_count": 3,
   "metadata": {},
   "outputs": [],
   "source": [
    "from pymorphy2 import MorphAnalyzer\n",
    "\n",
    "morph = MorphAnalyzer()"
   ]
  },
  {
   "cell_type": "code",
   "execution_count": 4,
   "metadata": {},
   "outputs": [
    {
     "data": {
      "application/vnd.jupyter.widget-view+json": {
       "model_id": "795ba32e63464ea0bba57f913353e4ed",
       "version_major": 2,
       "version_minor": 0
      },
      "text/plain": [
       "  0%|          | 0/10319 [00:00<?, ?it/s]"
      ]
     },
     "metadata": {},
     "output_type": "display_data"
    }
   ],
   "source": [
    "prep_data = []\n",
    "for record in tqdm(data):\n",
    "    if 'sentiment' not in record:\n",
    "        continue\n",
    "    \n",
    "    prep_tokens = []\n",
    "    for word in record['text'].split():\n",
    "        cleaned_word  = ''\n",
    "        for ch in word.lower():\n",
    "            if ch in 'абвгдеёжзийклмнопрстуфхцчшщъыьэюя-':\n",
    "                cleaned_word += ch\n",
    "            elif ch == '!':\n",
    "                prep_tokens += ['!']\n",
    "        if cleaned_word != '':\n",
    "            prep_tokens += [morph.parse(cleaned_word)[0].normal_form]\n",
    "\n",
    "    prep_record = {\n",
    "        'sentiment': record['sentiment'],\n",
    "        'text': ' '.join(prep_tokens)\n",
    "    }\n",
    "    prep_data += [prep_record]"
   ]
  },
  {
   "cell_type": "code",
   "execution_count": 5,
   "metadata": {},
   "outputs": [
    {
     "data": {
      "text/plain": [
       "{'sentiment': 'negative',\n",
       " 'text': 'досудебный расследование по факт покупка енпф пакет облигация тоо бузгул аурум быть начать по инициатива национальный банк рк сообщить директор департамент защита право потребитель и финансовый услуга нацбанк казахстан александр терентьев основание для досудебный расследование стать обращение национальный банк письмо от ноябрь год быть обращение национальный банк в правоохранительный орган мы этот сделка показаться сомнительный недостаточно корректный поэтому нацбанк ноябрь год обратиться в правоохранительный орган это то что я мочь озвучить на сегодня идти следствие проводиться проверка сказать терентьев декабрь в нацбанк заявить что не знать что стать основание для проверка енпф декабрь факт проведение проверка в ао единый накопительный пенсионный фонд подтвердиться пресс-служба национальный банк сообщить что проверка проводить по операция совершить ао енпф в отношение инвестирование собственный актив также в финрегулятор сообщать что по сделка енпф на сумма в пять млрд завести уголовный дело в нацбанк заверять что всё происходить не затрагивать пенсионный накопление казахстанец если вы наслать ошибка в текст выделить она мыший и нажать'}"
      ]
     },
     "execution_count": 5,
     "metadata": {},
     "output_type": "execute_result"
    }
   ],
   "source": [
    "prep_data[0]"
   ]
  },
  {
   "cell_type": "code",
   "execution_count": 6,
   "metadata": {},
   "outputs": [
    {
     "data": {
      "text/plain": [
       "8263"
      ]
     },
     "execution_count": 6,
     "metadata": {},
     "output_type": "execute_result"
    }
   ],
   "source": [
    "len(prep_data)"
   ]
  },
  {
   "cell_type": "markdown",
   "metadata": {},
   "source": [
    "## Анализ экспрессивов и регрессионная модель"
   ]
  },
  {
   "cell_type": "code",
   "execution_count": 7,
   "metadata": {},
   "outputs": [
    {
     "data": {
      "text/plain": [
       "(1434, 4034, 2795)"
      ]
     },
     "execution_count": 7,
     "metadata": {},
     "output_type": "execute_result"
    }
   ],
   "source": [
    "negative_set = []\n",
    "neutral_set = []\n",
    "positive_set = []\n",
    "\n",
    "for record in prep_data:\n",
    "    if record['sentiment'] == 'negative':\n",
    "        negative_set += [record['text']]\n",
    "    elif record['sentiment'] == 'neutral':\n",
    "        neutral_set += [record['text']]\n",
    "    else:\n",
    "        positive_set += [record['text']]\n",
    "len(negative_set), len(neutral_set), len(positive_set)"
   ]
  },
  {
   "cell_type": "code",
   "execution_count": 14,
   "metadata": {},
   "outputs": [
    {
     "data": {
      "text/plain": [
       "67"
      ]
     },
     "execution_count": 14,
     "metadata": {},
     "output_type": "execute_result"
    }
   ],
   "source": [
    "import numpy as np\n",
    "\n",
    "WORD = 'сожаление'\n",
    "\n",
    "logodds = []\n",
    "for subset in [negative_set, neutral_set, positive_set]:\n",
    "    word_freq = 0\n",
    "    for text in subset:\n",
    "        for word in text.split():\n",
    "            if WORD == word:\n",
    "                word_freq += 1\n",
    "    \n",
    "    subset_len = 0\n",
    "    for text in subset:\n",
    "        subset_len += len(text)\n",
    "\n",
    "    logodds += [np.log(word_freq / (subset_len - word_freq))]\n",
    "word_freq"
   ]
  },
  {
   "cell_type": "code",
   "execution_count": 15,
   "metadata": {},
   "outputs": [
    {
     "data": {
      "image/png": "[encoded data removed]",
      "text/plain": [
       "<Figure size 432x288 with 1 Axes>"
      ]
     },
     "metadata": {
      "needs_background": "light"
     },
     "output_type": "display_data"
    }
   ],
   "source": [
    "import matplotlib.pyplot as plt\n",
    "\n",
    "sentiment = [-1, 0, 1]\n",
    "\n",
    "k, b = np.polyfit(sentiment, logodds, 1)\n",
    "y_reg_lin = []\n",
    "for x in sentiment:\n",
    "    y_reg_lin += [k * x + b]\n",
    "\n",
    "a, b, c = np.polyfit(sentiment, logodds, 2)\n",
    "\n",
    "parabolic_x = np.linspace(-1, 1)\n",
    "y_reg_parabolic = []\n",
    "for x in parabolic_x:\n",
    "    y_reg_parabolic += [a * x ** 2 + b * x + c]\n",
    "\n",
    "plt.scatter(sentiment, logodds)\n",
    "plt.plot(sentiment, y_reg_lin, 'r--')\n",
    "plt.plot(parabolic_x, y_reg_parabolic, 'g--')\n",
    "plt.show()"
   ]
  }
 ],
 "metadata": {
  "kernelspec": {
   "display_name": "Python 3",
   "language": "python",
   "name": "python3"
  },
  "language_info": {
   "codemirror_mode": {
    "name": "ipython",
    "version": 3
   },
   "file_extension": ".py",
   "mimetype": "text/x-python",
   "name": "python",
   "nbconvert_exporter": "python",
   "pygments_lexer": "ipython3",
   "version": "3.8.8"
  }
 },
 "nbformat": 4,
 "nbformat_minor": 4
}

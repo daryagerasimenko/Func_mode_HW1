{
 "cells": [
  {
   "cell_type": "code",
   "execution_count": 20,
   "metadata": {},
   "outputs": [],
   "source": [
    "from tqdm.notebook import tqdm\n",
    "import os"
   ]
  },
  {
   "cell_type": "markdown",
   "metadata": {},
   "source": [
    "## Загрузка датасета"
   ]
  },
  {
   "cell_type": "code",
   "execution_count": 21,
   "metadata": {},
   "outputs": [],
   "source": [
    "data = []\n",
    "for folder in os.listdir('8956'):\n",
    "    if not folder.startswith('.'):\n",
    "        for file in os.listdir(f'8956/{folder}'):\n",
    "            with open(f'8956/{folder}/{file}') as f:\n",
    "                record = {\n",
    "                       'sentiment': folder,\n",
    "                       'text': f.read()\n",
    "                }\n",
    "                data += [record]"
   ]
  },
  {
   "cell_type": "code",
   "execution_count": 22,
   "metadata": {},
   "outputs": [
    {
     "data": {
      "text/plain": [
       "3000"
      ]
     },
     "execution_count": 22,
     "metadata": {},
     "output_type": "execute_result"
    }
   ],
   "source": [
    "len(data)"
   ]
  },
  {
   "cell_type": "code",
   "execution_count": 23,
   "metadata": {},
   "outputs": [
    {
     "data": {
      "text/plain": [
       "{'sentiment': 'positive',\n",
       " 'text': \"Примерно год назад я на сайте кинопоиск обнаружил страницу, посвященную некоему сериалу 'Игра престолов', в котором главную роль должен был исполнить знаменитый актёр Шон Бин. Первоначально просмотрев описание, я решил что это будет типичный средневековый 'сериальчик' вроде 'Мерлина' и всего прочего, из всех фентезийных сериалов мне больше всего запомнился как раз таки 'Мерлин' с Сэмом Нилом, и то он не воспринимался так мощно, как этого бы хотелось.\\n\\n\\nНу вот 18 апреля я посмотрел первую серию 'Игры престолов', и меня словно молния ударила (в Положительном смысле). Очень поразило то, насколько создатели качественно и серьезно отнеслись к созданию сериала. Декорации, спецэффекты, актерский состав поразили меня, ведь для телевизионного формата эта экранизация книги просто великолепна. После первой серии я с нетерпением ждал каждой следующий и попутно даже стал читать книгу.\\n\\n\\nГоворя об актерах, очень понравился в 'Игре' Шон Бин. Я его открыл для себя в другом свете. Питер Динклейдж в роли Тириона - великолепен. Лена Хиди тоже предстала в новом для неё образе.\\n\\n\\nНасколько я знаю, многие фанаты книги огорчены отсутствием батальных сцен, но такова режиссерская и сценаристская задумка - в первом сезоне идёт борьба за власть, которая выливается после в войну. А батальные сцены войны пяти королей - это уже второй и третий сезоны, так что всё будет впереди, не переживайте. \\n\\n\\nЧем поражает сам сериал? Так это своей непредсказуемостью и реалистичностью, несмотря на жанр фэнтези. Мы привыкли к тому, что Арагорн победит всех орков во Властелине колец, привыкли, что Гэндальф непобедим, привыкли, что Фродо точно уничтожит кольцо, и даже если все отчаются, то всё равно добро победит. В 'Игре престолов' такого нет! Этот сериал очень отличается от Властелина колец, раз уж с ним все его сравнивают. Это сериал для взрослых, это фэнтези не для детей, в нём много откровенных сцен и насилия. Это не сериал 'Боромир возвращение' или 'Месть Боромира'. 'Игра' - очень масштабная история с большим количеством интересных персонажей, не стану всех перечислять. Главное то, что не всё зацикливается вокруг центральных персонажей - это является огромным плюсом сериала (Для тех, кто не знает - действие крутится не только вокруг Шона Бина). Все персонажи развиваются. \\n\\n\\nПервый сезон достиг грандиозной планки. Для телевидения этот сериал является огромным прорывом. Теперь с трепетом ждём новостей о втором сезоне и его выхода.\\n\\n\\n10 из 10\"}"
      ]
     },
     "execution_count": 23,
     "metadata": {},
     "output_type": "execute_result"
    }
   ],
   "source": [
    "data[0]"
   ]
  },
  {
   "cell_type": "markdown",
   "metadata": {},
   "source": [
    "## Предобработка текстов "
   ]
  },
  {
   "cell_type": "code",
   "execution_count": 24,
   "metadata": {},
   "outputs": [],
   "source": [
    "from pymorphy2 import MorphAnalyzer\n",
    "\n",
    "morph = MorphAnalyzer()"
   ]
  },
  {
   "cell_type": "code",
   "execution_count": 25,
   "metadata": {},
   "outputs": [
    {
     "data": {
      "application/vnd.jupyter.widget-view+json": {
       "model_id": "cd2757cc31f74a94881979ac5412b9b2",
       "version_major": 2,
       "version_minor": 0
      },
      "text/plain": [
       "  0%|          | 0/3000 [00:00<?, ?it/s]"
      ]
     },
     "metadata": {},
     "output_type": "display_data"
    }
   ],
   "source": [
    "prep_data = []\n",
    "for record in tqdm(data):\n",
    "    if 'sentiment' not in record:\n",
    "        continue\n",
    "    \n",
    "    prep_tokens = []\n",
    "    for word in record['text'].split():\n",
    "        cleaned_word  = ''\n",
    "        for ch in word.lower():\n",
    "            if ch in 'абвгдеёжзийклмнопрстуфхцчшщъыьэюя-':\n",
    "                cleaned_word += ch\n",
    "            elif ch == '!':\n",
    "                prep_tokens += ['!']\n",
    "        if cleaned_word != '':\n",
    "            prep_tokens += [morph.parse(cleaned_word)[0].normal_form]\n",
    "\n",
    "    prep_record = {\n",
    "        'sentiment': record['sentiment'],\n",
    "        'text': ' '.join(prep_tokens)\n",
    "    }\n",
    "    prep_data += [prep_record]"
   ]
  },
  {
   "cell_type": "code",
   "execution_count": 26,
   "metadata": {},
   "outputs": [
    {
     "data": {
      "text/plain": [
       "{'sentiment': 'positive',\n",
       " 'text': 'примерно год назад я на сайт кинопоиск обнаружить страница посвятить некий сериал игра престол в который главный роль должный быть исполнить знаменитый актёр шон бин первоначально просмотреть описание я решить что это быть типичный средневековый сериальчик вроде мерлина и весь прочее из весь фентезийный сериал я большой весь запомниться как раз таки мерлина с сэм нил и то он не восприниматься так мощно как это бы хотеться ну вот апрель я посмотреть первый серия игра престол и я словно молния ударить в положительный смысл очень поразить то насколько создатель качественно и серьёзно отнестись к создание сериал декорация спецэффект актёрский состав поразить я ведь для телевизионный формат этот экранизация книга просто великолепный после первый серия я с нетерпение ждать каждый следующий и попутно даже стать читать книга говорить о актёр очень понравиться в игра шон бин я он открыть для себя в друг свет питер динклейдж в роль тирион - великолепный лена хидти тоже предстать в новый для она образ насколько я знать многие фанат книга огорчить отсутствие батальный сцена но таков режиссёрский и сценаристский задумка - в первый сезон идти борьба за власть который выливаться после в война а батальный сцена война пять король - это уже второй и третий сезон так что всё быть впереди не переживать чем поражать сам сериал так это свой непредсказуемость и реалистичность несмотря на жанр фэнтези мы привыкнуть к тот что арагорн победить весь орк в властелин кольцо привыкнуть что гэндальф непобедимый привыкнуть что фродый точно уничтожить кольцо и даже если всё отчаяться то всё равно добро победить в игра престол такой ! нет этот сериал очень отличаться от властелин кольцо раз уж с они всё он сравнивать это сериал для взрослый это фэнтези не для ребёнок в он много откровенный сцена и насилие это не сериал боромиро возвращение или месть боромиро игра - очень масштабный история с больший количество интересный персонаж не стать весь перечислять главное то что не всё зацикливаться вокруг центральный персонаж - это являться огромный плюс сериал для тот кто не знать - действие крутиться не только вокруг шон бин всё персонаж развиваться первый сезон достигнуть грандиозный планка для телевидение этот сериал являться огромный прорыв теперь с трепет ждать новость о второй сезон и он выход из'}"
      ]
     },
     "execution_count": 26,
     "metadata": {},
     "output_type": "execute_result"
    }
   ],
   "source": [
    "prep_data[0]"
   ]
  },
  {
   "cell_type": "code",
   "execution_count": 27,
   "metadata": {},
   "outputs": [
    {
     "data": {
      "text/plain": [
       "3000"
      ]
     },
     "execution_count": 27,
     "metadata": {},
     "output_type": "execute_result"
    }
   ],
   "source": [
    "len(prep_data)"
   ]
  },
  {
   "cell_type": "markdown",
   "metadata": {},
   "source": [
    "## Анализ экспрессива и регрессионная модель"
   ]
  },
  {
   "cell_type": "code",
   "execution_count": 28,
   "metadata": {},
   "outputs": [
    {
     "data": {
      "text/plain": [
       "(999, 1000, 1001)"
      ]
     },
     "execution_count": 28,
     "metadata": {},
     "output_type": "execute_result"
    }
   ],
   "source": [
    "negative_set = []\n",
    "neutral_set = []\n",
    "positive_set = []\n",
    "\n",
    "for record in prep_data:\n",
    "    if record['sentiment'] == 'negative':\n",
    "        negative_set += [record['text']]\n",
    "    elif record['sentiment'] == 'neutral':\n",
    "        neutral_set += [record['text']]\n",
    "    else:\n",
    "        positive_set += [record['text']]\n",
    "len(negative_set), len(neutral_set), len(positive_set)"
   ]
  },
  {
   "cell_type": "code",
   "execution_count": 29,
   "metadata": {},
   "outputs": [
    {
     "data": {
      "text/plain": [
       "67"
      ]
     },
     "execution_count": 29,
     "metadata": {},
     "output_type": "execute_result"
    }
   ],
   "source": [
    "import numpy as np\n",
    "\n",
    "WORD = 'сожаление'\n",
    "\n",
    "logodds = []\n",
    "for subset in [negative_set, neutral_set, positive_set]:\n",
    "    word_freq = 0\n",
    "    for text in subset:\n",
    "        for word in text.split():\n",
    "            if WORD == word:\n",
    "                word_freq += 1\n",
    "                \n",
    "    subset_len = 0\n",
    "    for text in subset:\n",
    "        subset_len += len(text)\n",
    "\n",
    "    logodds += [np.log(word_freq / (subset_len - word_freq))]\n",
    "word_freq"
   ]
  },
  {
   "cell_type": "code",
   "execution_count": 30,
   "metadata": {},
   "outputs": [
    {
     "data": {
      "image/png": "[encoded data removed]",
      "text/plain": [
       "<Figure size 432x288 with 1 Axes>"
      ]
     },
     "metadata": {
      "needs_background": "light"
     },
     "output_type": "display_data"
    }
   ],
   "source": [
    "import matplotlib.pyplot as plt\n",
    "\n",
    "sentiment = [-1, 0, 1]\n",
    "\n",
    "k, b = np.polyfit(sentiment, logodds, 1)\n",
    "y_reg_lin = []\n",
    "for x in sentiment:\n",
    "    y_reg_lin += [k * x + b]\n",
    "\n",
    "a, b, c = np.polyfit(sentiment, logodds, 2)\n",
    "\n",
    "parabolic_x = np.linspace(-1, 1)\n",
    "y_reg_parabolic = []\n",
    "for x in parabolic_x:\n",
    "    y_reg_parabolic += [a * x ** 2 + b * x + c]\n",
    "\n",
    "plt.scatter(sentiment, logodds)\n",
    "plt.plot(sentiment, y_reg_lin, 'r--')\n",
    "plt.plot(parabolic_x, y_reg_parabolic, 'g--')\n",
    "plt.show()"
   ]
  }
 ],
 "metadata": {
  "kernelspec": {
   "display_name": "Python 3",
   "language": "python",
   "name": "python3"
  },
  "language_info": {
   "codemirror_mode": {
    "name": "ipython",
    "version": 3
   },
   "file_extension": ".py",
   "mimetype": "text/x-python",
   "name": "python",
   "nbconvert_exporter": "python",
   "pygments_lexer": "ipython3",
   "version": "3.8.8"
  }
 },
 "nbformat": 4,
 "nbformat_minor": 4
}

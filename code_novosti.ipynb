{
 "cells": [
  {
   "cell_type": "code",
   "execution_count": 1,
   "metadata": {},
   "outputs": [],
   "source": [
    "import json\n",
    "from tqdm.notebook import tqdm\n",
    "import os"
   ]
  },
  {
   "cell_type": "markdown",
   "metadata": {},
   "source": [
    "## Загрузка датасета"
   ]
  },
  {
   "cell_type": "code",
   "execution_count": 2,
   "metadata": {},
   "outputs": [
    {
     "data": {
      "text/plain": [
       "10319"
      ]
     },
     "execution_count": 2,
     "metadata": {},
     "output_type": "execute_result"
    }
   ],
   "source": [
    "with open('novosti/dataset.json', 'r') as f:\n",
    "    data = json.load(f)\n",
    "\n",
    "len(data)"
   ]
  },
  {
   "cell_type": "code",
   "execution_count": 3,
   "metadata": {
    "scrolled": true
   },
   "outputs": [
    {
     "data": {
      "text/plain": [
       "{'text': 'Досудебное расследование по факту покупки ЕНПФ пакета облигаций ТОО \"Бузгул Аурум\" было начато по инициативе Национального банка РК, сообщил директор департамента защиты прав потребителей и финансовых услуг Нацбанка Казахстана Александр Терентьев.\\n\"Основанием для досудебного расследования стало обращение Национального банка, письмо от 25 ноября 2016 года. Было обращение Национального банка в правоохранительные органы. Нам эта сделка показалась сомнительной, недостаточно корректной, поэтому Нацбанк 25 ноября 2016 года обратился в правоохранительные органы. Это то, что я могу озвучить на сегодня. Идёт следствие, проводится проверка\", – сказал Терентьев.\\n28 декабря в Нацбанке заявили, что не знают, что стало основанием для проверки ЕНПФ.\\n23 декабря факт проведения проверки в АО \"Единый накопительный пенсионный фонд\" подтвердился. Пресс-служба Национального банка сообщила, что проверку проводят по операциям, совершённым АО \"ЕНПФ\" в отношении инвестирования собственных активов.\\nТакже в финрегуляторе сообщали, что по сделке ЕНПФ на сумму в пять млрд заведено уголовное дело. В Нацбанке заверяют, что всё происходящее не затрагивает пенсионных накоплений казахстанцев.\\nЕсли вы нашли ошибку в тексте, выделите ее мышью и нажмите Ctrl+Enter\\n',\n",
       " 'id': 1945,\n",
       " 'sentiment': 'negative'}"
      ]
     },
     "execution_count": 3,
     "metadata": {},
     "output_type": "execute_result"
    }
   ],
   "source": [
    "data[0]"
   ]
  },
  {
   "cell_type": "markdown",
   "metadata": {},
   "source": [
    "## Предобработка текстов "
   ]
  },
  {
   "cell_type": "code",
   "execution_count": 4,
   "metadata": {},
   "outputs": [],
   "source": [
    "from pymorphy2 import MorphAnalyzer\n",
    "\n",
    "morph = MorphAnalyzer()"
   ]
  },
  {
   "cell_type": "code",
   "execution_count": null,
   "metadata": {},
   "outputs": [
    {
     "data": {
      "application/vnd.jupyter.widget-view+json": {
       "model_id": "cf301ef083ca4b1ea61ec52031eee33e",
       "version_major": 2,
       "version_minor": 0
      },
      "text/plain": [
       "  0%|          | 0/10319 [00:00<?, ?it/s]"
      ]
     },
     "metadata": {},
     "output_type": "display_data"
    }
   ],
   "source": [
    "prep_data = []\n",
    "for record in tqdm(data):\n",
    "    if 'sentiment' not in record:\n",
    "        continue\n",
    "    \n",
    "    prep_tokens = []\n",
    "    for word in record['text'].split():\n",
    "        cleaned_word  = ''\n",
    "        for character in word.lower():\n",
    "            if character in 'абвгдеёжзийклмнопрстуфхцчшщъыьэюя-':\n",
    "                cleaned_word += character\n",
    "            elif character == '!':\n",
    "                prep_tokens += ['!']\n",
    "        if cleaned_word != '':\n",
    "            prep_tokens += [morph.parse(cleaned_word)[0].normal_form]\n",
    "\n",
    "    prep_record = {\n",
    "        'sentiment': record['sentiment'],\n",
    "        'text': ' '.join(prep_tokens)\n",
    "    }\n",
    "    prep_data += [prep_record]"
   ]
  },
  {
   "cell_type": "code",
   "execution_count": null,
   "metadata": {},
   "outputs": [],
   "source": [
    "prep_data[0]"
   ]
  },
  {
   "cell_type": "code",
   "execution_count": null,
   "metadata": {},
   "outputs": [],
   "source": [
    "len(prep_data)"
   ]
  },
  {
   "cell_type": "markdown",
   "metadata": {},
   "source": [
    "## Анализ экспрессивов и регрессионная модель"
   ]
  },
  {
   "cell_type": "code",
   "execution_count": null,
   "metadata": {},
   "outputs": [],
   "source": [
    "negative_set = []\n",
    "neutral_set = []\n",
    "positive_set = []\n",
    "\n",
    "for record in prep_data:\n",
    "    if record['sentiment'] == 'negative':\n",
    "        negative_set += [record['text']]\n",
    "    elif record['sentiment'] == 'neutral':\n",
    "        neutral_set += [record['text']]\n",
    "    else:\n",
    "        positive_set += [record['text']]\n",
    "len(negative_set), len(neutral_set), len(positive_set)"
   ]
  },
  {
   "cell_type": "code",
   "execution_count": null,
   "metadata": {},
   "outputs": [],
   "source": [
    "import numpy as np\n",
    "\n",
    "WORD = 'жаль'\n",
    "\n",
    "logodds = []\n",
    "for subset in [negative_set, neutral_set, positive_set]:\n",
    "    word_freq = 0\n",
    "    for text in subset:\n",
    "        for word in text.split():\n",
    "            if WORD == word:\n",
    "                word_freq += 1\n",
    "    \n",
    "    subset_len = 0\n",
    "    for text in subset:\n",
    "        subset_len += len(text)\n",
    "\n",
    "    logodds += [np.log(word_freq / (subset_len - word_freq))]"
   ]
  },
  {
   "cell_type": "code",
   "execution_count": null,
   "metadata": {},
   "outputs": [],
   "source": [
    "for text in subset:\n",
    "    for word in text.split():\n",
    "        if word == 'жаль':\n",
    "            print(text)\n",
    "            break"
   ]
  },
  {
   "cell_type": "code",
   "execution_count": null,
   "metadata": {},
   "outputs": [],
   "source": [
    "import matplotlib.pyplot as plt\n",
    "\n",
    "sentiment = [-1, 0, 1]\n",
    "\n",
    "k, b = np.polyfit(sentiment, logodds, 1)\n",
    "y_reg_lin = []\n",
    "for x in sentiment:\n",
    "    y_reg_lin += [k * x + b]\n",
    "\n",
    "a, b, c = np.polyfit(sentiment, logodds, 2)\n",
    "\n",
    "parabolic_x = np.linspace(-1, 1)\n",
    "y_reg_parabolic = []\n",
    "for x in parabolic_x:\n",
    "    y_reg_parabolic += [a * x ** 2 + b * x + c]\n",
    "\n",
    "plt.scatter(sentiment, logodds)\n",
    "plt.plot(sentiment, y_reg_lin, 'r--')\n",
    "plt.plot(parabolic_x, y_reg_parabolic, 'g--')\n",
    "plt.show()"
   ]
  }
 ],
 "metadata": {
  "kernelspec": {
   "display_name": "Python 3",
   "language": "python",
   "name": "python3"
  },
  "language_info": {
   "codemirror_mode": {
    "name": "ipython",
    "version": 3
   },
   "file_extension": ".py",
   "mimetype": "text/x-python",
   "name": "python",
   "nbconvert_exporter": "python",
   "pygments_lexer": "ipython3",
   "version": "3.8.8"
  }
 },
 "nbformat": 4,
 "nbformat_minor": 4
}
